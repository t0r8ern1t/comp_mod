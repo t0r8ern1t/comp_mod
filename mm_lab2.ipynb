{
  "nbformat": 4,
  "nbformat_minor": 0,
  "metadata": {
    "colab": {
      "provenance": [],
      "authorship_tag": "ABX9TyPA6TWM9ZFuF+k6rpIG1Lph",
      "include_colab_link": true
    },
    "kernelspec": {
      "name": "python3",
      "display_name": "Python 3"
    },
    "language_info": {
      "name": "python"
    }
  },
  "cells": [
    {
      "cell_type": "markdown",
      "metadata": {
        "id": "view-in-github",
        "colab_type": "text"
      },
      "source": [
        "<a href=\"https://colab.research.google.com/github/t0r8ern1t/comp_mod/blob/main/mm_lab2.ipynb\" target=\"_parent\"><img src=\"https://colab.research.google.com/assets/colab-badge.svg\" alt=\"Open In Colab\"/></a>"
      ]
    },
    {
      "cell_type": "code",
      "execution_count": 1,
      "metadata": {
        "id": "EIXLw1stcojs"
      },
      "outputs": [],
      "source": [
        "import pandas as pd\n",
        "import numpy as np"
      ]
    },
    {
      "cell_type": "code",
      "source": [
        "def interpolate_row(row, method='linear'):\n",
        "    if method == 'linear':\n",
        "        return linear_interpolation(row)\n",
        "    elif method == 'quadratic':\n",
        "        return quadratic_interpolation(row)\n",
        "\n",
        "def linear_interpolation(row):\n",
        "    row = np.array(row, dtype=float)\n",
        "    nans = np.isnan(row)\n",
        "    for i in range(len(row)):\n",
        "        if nans[i]:\n",
        "            left = i - 1\n",
        "            while left >= 0 and nans[left]:\n",
        "                left -= 1\n",
        "            right = i + 1\n",
        "            while right < len(row) and nans[right]:\n",
        "                right += 1\n",
        "\n",
        "            if left >= 0 and right < len(row):\n",
        "                row[i] = row[left] + (row[right] - row[left]) * (i - left) / (right - left)\n",
        "            elif left >= 0:\n",
        "                row[i] = row[left]\n",
        "            elif right < len(row):\n",
        "                row[i] = row[right]\n",
        "    return row\n",
        "\n",
        "def quadratic_interpolation(row):\n",
        "    row = np.array(row, dtype=float)\n",
        "    nans = np.isnan(row)\n",
        "    for i in range(len(row)):\n",
        "        if nans[i]:\n",
        "            left1 = i - 1\n",
        "            while left1 >= 0 and nans[left1]:\n",
        "                left1 -= 1\n",
        "            left2 = left1 - 1\n",
        "            while left2 >= 0 and nans[left2]:\n",
        "                left2 -= 1\n",
        "            right1 = i + 1\n",
        "            while right1 < len(row) and nans[right1]:\n",
        "                right1 += 1\n",
        "            right2 = right1 + 1\n",
        "            while right2 < len(row) and nans[right2]:\n",
        "                right2 += 1\n",
        "\n",
        "            if left2 >= 0 and right2 < len(row):\n",
        "                x = [left2, left1, right1, right2]\n",
        "                y = [row[left2], row[left1], row[right1], row[right2]]\n",
        "                denom = (x[0] - x[1]) * (x[0] - x[2]) * (x[1] - x[2])\n",
        "                a = (y[2] * (x[1] - x[0]) + y[1] * (x[0] - x[2]) + y[0] * (x[2] - x[1])) / denom\n",
        "                b = (y[2] * (x[0]**2 - x[1]**2) + y[1] * (x[2]**2 - x[0]**2) + y[0] * (x[1]**2 - x[2]**2)) / denom\n",
        "                c = (y[2] * (x[1] * x[0]**2 - x[0] * x[1]**2) + y[1] * (x[2] * x[0]**2 - x[0] * x[2]**2) + y[0] * (x[1] * x[2]**2 - x[2] * x[1]**2)) / denom\n",
        "                row[i] = a * i**2 + b * i + c\n",
        "            elif left1 >= 0 and right1 < len(row):\n",
        "                row[i] = row[left1] + (row[right1] - row[left1]) * (i - left1) / (right1 - left1)\n",
        "            elif left1 >= 0:\n",
        "                row[i] = row[left1]\n",
        "            elif right1 < len(row):\n",
        "                row[i] = row[right1]\n",
        "    return row\n",
        "\n",
        "def read_data(file_path):\n",
        "    sheets = [pd.read_excel(file_path, sheet_name=i, header=None) for i in range(3)]\n",
        "    return [sheet.iloc[2:34, 1:25].values.tolist() for sheet in sheets]\n",
        "\n",
        "def write_data(file_path, data, method='linear'):\n",
        "    with pd.ExcelWriter(file_path) as writer:\n",
        "        for idx, dataset in enumerate(data):\n",
        "            pd.DataFrame(dataset).to_excel(writer, sheet_name=f'Sheet{idx + 1}', header=False, index=False)"
      ],
      "metadata": {
        "id": "jdeMfRD5dGc6"
      },
      "execution_count": 2,
      "outputs": []
    },
    {
      "cell_type": "code",
      "source": [
        "path_to_table = r\"Data_2.xls\"\n",
        "data_sets = read_data(path_to_table)\n",
        "\n",
        "\n",
        "linear_data = [[interpolate_row(row, 'linear') for row in data_set] for data_set in data_sets]\n",
        "quadratic_data = [[interpolate_row(row, 'quadratic') for row in data_set] for data_set in data_sets]\n",
        "\n",
        "# Запись результатов в файл\n",
        "output_file = r\"output.xlsx\"\n",
        "write_data(output_file, linear_data)\n",
        "write_data(output_file, quadratic_data)\n",
        "\n",
        "print(f\"Результаты сохранены в файл: {output_file}\")"
      ],
      "metadata": {
        "colab": {
          "base_uri": "https://localhost:8080/"
        },
        "id": "jzHgTvQrdMrA",
        "outputId": "4675f468-9df7-4611-ece8-585b0c94c8b7"
      },
      "execution_count": 4,
      "outputs": [
        {
          "output_type": "stream",
          "name": "stdout",
          "text": [
            "Результаты сохранены в файл: output.xlsx\n"
          ]
        }
      ]
    }
  ]
}