{
  "nbformat": 4,
  "nbformat_minor": 0,
  "metadata": {
    "colab": {
      "provenance": [],
      "authorship_tag": "ABX9TyMUHKHrSnTW+TEB+jzidJbb"
    },
    "kernelspec": {
      "name": "python3",
      "display_name": "Python 3"
    },
    "language_info": {
      "name": "python"
    }
  },
  "cells": [
    {
      "cell_type": "code",
      "execution_count": 1,
      "metadata": {
        "id": "6NXJlNIIVp54"
      },
      "outputs": [],
      "source": [
        "import pandas as pd\n",
        "import numpy as np\n",
        "from statsmodels.nonparametric.smoothers_lowess import lowess"
      ]
    },
    {
      "cell_type": "code",
      "source": [
        "def calculate_derivatives(data):\n",
        "    stations = data['Station'].unique()\n",
        "    derivatives = {}\n",
        "\n",
        "    for station in stations:\n",
        "        station_data = data[data['Station'] == station].copy()\n",
        "        depths = station_data['Depth [m]'].values\n",
        "        temperatures = station_data['Temperature [degrees_C]'].values\n",
        "\n",
        "        forward_diff = np.gradient(temperatures, depths)\n",
        "        central_diff = np.gradient(temperatures, depths, edge_order=2)\n",
        "\n",
        "        combined_diff = np.nanmean(np.array([forward_diff, central_diff]), axis=0)\n",
        "        derivatives[station] = combined_diff\n",
        "\n",
        "    return derivatives\n",
        "\n",
        "\n",
        "def smooth_with_convolution(data, window_size=20):\n",
        "    kernel = np.ones(window_size) / window_size\n",
        "    return np.convolve(data, kernel, mode='same')\n",
        "\n",
        "\n",
        "def find_dip(smoothed_diff, depths):\n",
        "    min_index = np.argmin(smoothed_diff)\n",
        "    dip_start = min_index\n",
        "    dip_end = min_index\n",
        "\n",
        "    # Поиск начала спада\n",
        "    while dip_start > 0 and smoothed_diff[dip_start] <= smoothed_diff[dip_start - 1]:\n",
        "        dip_start -= 1\n",
        "\n",
        "    # Поиск конца спада\n",
        "    while dip_end < len(smoothed_diff) - 1 and smoothed_diff[dip_end] <= smoothed_diff[dip_end + 1]:\n",
        "        dip_end += 1\n",
        "\n",
        "    return depths[dip_start], depths[dip_end]"
      ],
      "metadata": {
        "id": "eNP7uffAWV5q"
      },
      "execution_count": 2,
      "outputs": []
    },
    {
      "cell_type": "code",
      "source": [
        "# Путь к файлу\n",
        "file_path = r\"Data_1.csv\"\n",
        "data = pd.read_csv(file_path, delimiter=';')\n",
        "data['Station'] = data['Station'].astype(str)\n",
        "\n",
        "\n",
        "# Основной процесс\n",
        "combined_derivatives = calculate_derivatives(data)\n",
        "\n",
        "results = []\n",
        "for station, combined_diff in combined_derivatives.items():\n",
        "    depths = data[data['Station'] == station]['Depth [m]'].values\n",
        "\n",
        "    smoothed_diff = smooth_with_convolution(combined_diff)\n",
        "    loess_smoothed_diff = lowess(smoothed_diff, depths, frac=0.1)[:, 1]\n",
        "\n",
        "    dip_start, dip_end = find_dip(loess_smoothed_diff, depths)\n",
        "\n",
        "    results.append([station, dip_start, dip_end - dip_start])\n",
        "\n",
        "# Сохранение результатов\n",
        "results_df = pd.DataFrame(results, columns=['Station', 'Start Depth', 'Thickness'])\n",
        "output_file = r\"output.csv\"\n",
        "results_df.to_csv(output_file, index=False, sep=';')\n",
        "\n",
        "print(f\"Результаты сохранены в файл: {output_file}\")"
      ],
      "metadata": {
        "colab": {
          "base_uri": "https://localhost:8080/"
        },
        "id": "IZ77uhmAWgTl",
        "outputId": "8b2b5df7-ff46-4541-d6b3-bfbaab67bb6d"
      },
      "execution_count": 3,
      "outputs": [
        {
          "output_type": "stream",
          "name": "stdout",
          "text": [
            "Результаты сохранены в файл: output.csv\n"
          ]
        }
      ]
    }
  ]
}