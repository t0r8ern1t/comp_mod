{
  "nbformat": 4,
  "nbformat_minor": 0,
  "metadata": {
    "colab": {
      "provenance": [],
      "authorship_tag": "ABX9TyO3fTpDY//gpo2xstRYn2bm",
      "include_colab_link": true
    },
    "kernelspec": {
      "name": "python3",
      "display_name": "Python 3"
    },
    "language_info": {
      "name": "python"
    }
  },
  "cells": [
    {
      "cell_type": "markdown",
      "metadata": {
        "id": "view-in-github",
        "colab_type": "text"
      },
      "source": [
        "<a href=\"https://colab.research.google.com/github/t0r8ern1t/comp_mod/blob/main/mm_lab3.ipynb\" target=\"_parent\"><img src=\"https://colab.research.google.com/assets/colab-badge.svg\" alt=\"Open In Colab\"/></a>"
      ]
    },
    {
      "cell_type": "code",
      "execution_count": 1,
      "metadata": {
        "id": "jPGJx07QetHX"
      },
      "outputs": [],
      "source": [
        "import math\n",
        "import csv"
      ]
    },
    {
      "cell_type": "code",
      "source": [
        "def read_data(file_path):\n",
        "    data = []\n",
        "    with open(file_path, 'r') as file:\n",
        "        file.readline()\n",
        "        for line in file:\n",
        "            station, lon, lat, depth, ve, vn = map(float, line.split())\n",
        "            data.append((station, lon, lat, depth, ve, vn))\n",
        "    return data\n",
        "\n",
        "def calculate_distance(lat1, lon1, lat2, lon2):\n",
        "    R = 6371000\n",
        "    lat1, lon1, lat2, lon2 = map(math.radians, [lat1, lon1, lat2, lon2])\n",
        "    dlat = lat2 - lat1\n",
        "    dlon = lon2 - lon1\n",
        "    a = math.sin(dlat / 2)**2 + math.cos(lat1) * math.cos(lat2) * math.sin(dlon / 2)**2\n",
        "    c = 2 * math.atan2(math.sqrt(a), math.sqrt(1 - a))\n",
        "    return R * c\n",
        "\n",
        "def rectangle_integration(f_values, dx, method='left'):\n",
        "    if method == 'left':\n",
        "        return sum(f_values[:-1]) * dx\n",
        "    elif method == 'right':\n",
        "        return sum(f_values[1:]) * dx\n",
        "\n",
        "def trapezoidal_integration(f_values, dx):\n",
        "    return (f_values[0] + 2 * sum(f_values[1:-1]) + f_values[-1]) * dx / 2\n",
        "\n",
        "def simpson_integration(f_values, dx):\n",
        "    if len(f_values) < 3 or len(f_values) % 2 == 0:\n",
        "        return trapezoidal_integration(f_values, dx)\n",
        "    n = len(f_values)\n",
        "    integral = f_values[0] + f_values[-1]\n",
        "    for i in range(1, n - 1, 2):\n",
        "        integral += 4 * f_values[i]\n",
        "    for i in range(2, n - 2, 2):\n",
        "        integral += 2 * f_values[i]\n",
        "    return integral * dx / 3\n",
        "\n",
        "def integrate_depth(data, station):\n",
        "    depths = [entry[3] for entry in data if entry[0] == station]\n",
        "    ve_values = [entry[4] for entry in data if entry[0] == station]\n",
        "    vn_values = [entry[5] for entry in data if entry[0] == station]\n",
        "\n",
        "    if len(depths) <= 1:\n",
        "        return 0, 0, 0, 0, 0, 0, 0, 0\n",
        "\n",
        "    dx = abs(depths[1] - depths[0])\n",
        "\n",
        "    ve_integral_trap = trapezoidal_integration(ve_values, dx)\n",
        "    vn_integral_trap = trapezoidal_integration(vn_values, dx)\n",
        "\n",
        "    ve_integral_rect_left = rectangle_integration(ve_values, dx, method='left')\n",
        "    vn_integral_rect_left = rectangle_integration(vn_values, dx, method='left')\n",
        "\n",
        "    ve_integral_rect_right = rectangle_integration(ve_values, dx, method='right')\n",
        "    vn_integral_rect_right = rectangle_integration(vn_values, dx, method='right')\n",
        "\n",
        "    ve_integral_simp = simpson_integration(ve_values, dx)\n",
        "    vn_integral_simp = simpson_integration(vn_values, dx)\n",
        "\n",
        "    return (ve_integral_trap, vn_integral_trap,\n",
        "            ve_integral_rect_left, vn_integral_rect_left,\n",
        "            ve_integral_rect_right, vn_integral_rect_right,\n",
        "            ve_integral_simp, vn_integral_simp)\n",
        "\n",
        "def integrate_space(data):\n",
        "    stations = sorted(set(entry[0] for entry in data))\n",
        "    total_ve_trap, total_vn_trap = 0, 0\n",
        "    total_ve_rect_left, total_vn_rect_left = 0, 0\n",
        "    total_ve_rect_right, total_vn_rect_right = 0, 0\n",
        "    total_ve_simp, total_vn_simp = 0, 0\n",
        "\n",
        "    for i in range(len(stations) - 1):\n",
        "        station1, station2 = stations[i], stations[i+1]\n",
        "\n",
        "        lat1, lon1 = next((entry[2], entry[1]) for entry in data if entry[0] == station1)\n",
        "        lat2, lon2 = next((entry[2], entry[1]) for entry in data if entry[0] == station2)\n",
        "        dx = calculate_distance(lat1, lon1, lat2, lon2)\n",
        "\n",
        "        integrals1 = integrate_depth(data, station1)\n",
        "        integrals2 = integrate_depth(data, station2)\n",
        "\n",
        "        total_ve_trap += trapezoidal_integration([integrals1[0], integrals2[0]], dx)\n",
        "        total_vn_trap += trapezoidal_integration([integrals1[1], integrals2[1]], dx)\n",
        "\n",
        "        total_ve_rect_left += trapezoidal_integration([integrals1[2], integrals2[2]], dx)\n",
        "        total_vn_rect_left += trapezoidal_integration([integrals1[3], integrals2[3]], dx)\n",
        "\n",
        "        total_ve_rect_right += trapezoidal_integration([integrals1[4], integrals2[4]], dx)\n",
        "        total_vn_rect_right += trapezoidal_integration([integrals1[5], integrals2[5]], dx)\n",
        "\n",
        "        total_ve_simp += trapezoidal_integration([integrals1[6], integrals2[6]], dx)\n",
        "        total_vn_simp += trapezoidal_integration([integrals1[7], integrals2[7]], dx)\n",
        "\n",
        "    return {\n",
        "        \"ve_trap\": total_ve_trap, \"vn_trap\": total_vn_trap,\n",
        "        \"ve_rect_left\": total_ve_rect_left, \"vn_rect_left\": total_vn_rect_left,\n",
        "        \"ve_rect_right\": total_ve_rect_right, \"vn_rect_right\": total_vn_rect_right,\n",
        "        \"ve_simp\": total_ve_simp, \"vn_simp\": total_vn_simp\n",
        "    }\n",
        "\n",
        "def write_results_to_csv(results, output_file):\n",
        "    with open(output_file, 'w', newline='') as csvfile:\n",
        "        fieldnames = [\"Method\", \"Ve\", \"Vn\"]\n",
        "        writer = csv.DictWriter(csvfile, fieldnames=fieldnames)\n",
        "        writer.writeheader()\n",
        "        writer.writerow({\"Method\": \"Trapezoidal\", \"Ve\": results[\"ve_trap\"], \"Vn\": results[\"vn_trap\"]})\n",
        "        writer.writerow({\"Method\": \"Rectangle Left\", \"Ve\": results[\"ve_rect_left\"], \"Vn\": results[\"vn_rect_left\"]})\n",
        "        writer.writerow({\"Method\": \"Rectangle Right\", \"Ve\": results[\"ve_rect_right\"], \"Vn\": results[\"vn_rect_right\"]})\n",
        "        writer.writerow({\"Method\": \"Simpson\", \"Ve\": results[\"ve_simp\"], \"Vn\": results[\"vn_simp\"]})"
      ],
      "metadata": {
        "id": "dLr3cHeke3eu"
      },
      "execution_count": 2,
      "outputs": []
    },
    {
      "cell_type": "code",
      "source": [
        "file_path = r\"Data_3.txt\"\n",
        "output_file = r\"output.csv\"\n",
        "\n",
        "data = read_data(file_path)\n",
        "\n",
        "results = integrate_space(data)\n",
        "\n",
        "write_results_to_csv(results, output_file)\n",
        "\n",
        "print(f\"Результаты сохранены в файл: {output_file}\")"
      ],
      "metadata": {
        "colab": {
          "base_uri": "https://localhost:8080/"
        },
        "id": "xa9-D0oifC5o",
        "outputId": "fe1dc9fa-93a2-4953-a734-ed40b9e59863"
      },
      "execution_count": 4,
      "outputs": [
        {
          "output_type": "stream",
          "name": "stdout",
          "text": [
            "Результаты сохранены в файл: output.csv\n"
          ]
        }
      ]
    }
  ]
}